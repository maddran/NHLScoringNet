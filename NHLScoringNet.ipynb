{
  "nbformat": 4,
  "nbformat_minor": 0,
  "metadata": {
    "colab": {
      "name": "analyseGraph",
      "provenance": [],
      "collapsed_sections": []
    },
    "kernelspec": {
      "name": "python3",
      "display_name": "Python 3"
    }
  },
  "cells": [
    {
      "cell_type": "markdown",
      "metadata": {
        "id": "MGgzC8k_PPey",
        "colab_type": "text"
      },
      "source": [
        "# NHL Scoring Event Network Analysis\n",
        "\n",
        "Samuli Kinnunen | Madhav Narendran\n",
        "\n",
        "This notebook was created as part of the course Network Analysis at the University of Helsinki in Spring 2020. It allows you to visualize scoring events for an NHL team as a weighted and directed graph. The functions defined below allow you to produce a graph for a single game or an animation depiciting a full season.\n"
      ]
    },
    {
      "cell_type": "code",
      "metadata": {
        "id": "5xXMDF7wp9yW",
        "colab_type": "code",
        "colab": {}
      },
      "source": [
        "import pickle\n",
        "import networkx as nx\n",
        "from networkx import *\n",
        "import matplotlib.pyplot as plt\n",
        "import seaborn as sns\n",
        "import numpy as np\n",
        "import pandas as pd\n",
        "import requests\n",
        "import json\n",
        "import imageio\n"
      ],
      "execution_count": 0,
      "outputs": []
    },
    {
      "cell_type": "code",
      "metadata": {
        "id": "dyGoe-eadbyA",
        "colab_type": "code",
        "colab": {}
      },
      "source": [
        "def generate_all_teams(season):\n",
        "  teamsreq = requests.get(\"https://statsapi.web.nhl.com/api/v1/teams\")\n",
        "  teams = json.loads(teamsreq.text)\n",
        "  teamsLU = pd.DataFrame.from_dict(teams['teams']).loc[:,['id','name', 'link','abbreviation']]\n",
        "  team_list = teamsLU['name'].tolist()\n",
        "\n",
        "  for team in team_list:\n",
        "    G = generate_network(team, season)\n",
        "    team_name = team + '_20182019' + '.gpickle'\n",
        "    nx.write_gpickle(G , team_name)\n",
        "\n",
        "def generate_network_evolution(teamCityName, season):\n",
        "  #get data from API\n",
        "  teamsreq = requests.get(\"https://statsapi.web.nhl.com/api/v1/teams\")\n",
        "  teams = json.loads(teamsreq.text)\n",
        "  teamsLU = pd.DataFrame.from_dict(teams['teams']).loc[:,['id','name', 'link','abbreviation']]\n",
        "  teamId = teamsLU[teamsLU['name'].str.contains(teamCityName)]['id'].values[0]\n",
        "  sched = getSched(season, str(teamId))\n",
        "  list_of_attr_df = []\n",
        "  list_of_game_df = []\n",
        "  list_of_graphs = []\n",
        "  #Going through all the games in the season\n",
        "  for i, gId in enumerate(sched.gamePk):\n",
        "    try:\n",
        "      homeFlag = sched.home_flag[i]\n",
        "      gameData = getGameData(str(gId), teamId)\n",
        "      attrData = make_attribute_df(gId, homeFlag)\n",
        "      list_of_attr_df.append(attrData)\n",
        "      if gameData.empty:\n",
        "        pass\n",
        "      else:\n",
        "        game_df = make_score_df(gameData)\n",
        "        list_of_game_df.append(game_df)\n",
        "    except:\n",
        "      pass\n",
        "\n",
        "    concat_df = concat_game_df(list_of_game_df)\n",
        "    concat_df = concat_df.to_frame()\n",
        "    attributes  = concat_attr_df(list_of_attr_df)\n",
        "    attributes['points'] = attributes['goals'] + attributes['assists']\n",
        "    attributes_dict = attributes.to_dict('index')\n",
        "    G = nx.from_pandas_edgelist(concat_df.reset_index(), 'scorer', 'assist', 'weight',create_using=nx.DiGraph())\n",
        "    nx.set_node_attributes(G, attributes_dict)\n",
        "    list_of_graphs.append(G)\n",
        "    #nx.write_gpickle(G,'flames2018_' + str(i) +'.gpickle')\n",
        "\n",
        "  return list_of_graphs\n",
        "\n",
        "def generate_network(teamCityName, season):\n",
        "  #get data from API\n",
        "  teamsreq = requests.get(\"https://statsapi.web.nhl.com/api/v1/teams\")\n",
        "  teams = json.loads(teamsreq.text)\n",
        "  teamsLU = pd.DataFrame.from_dict(teams['teams']).loc[:,['id','name', 'link','abbreviation']]\n",
        "  teamId = teamsLU[teamsLU['name'].str.contains(teamCityName)]['id'].values[0]\n",
        "  sched = getSched(season, str(teamId))\n",
        "  list_of_attr_df = []\n",
        "  list_of_game_df = []\n",
        "  #Going through all the games in the season\n",
        "  for i, gId in enumerate(sched.gamePk):\n",
        "    homeFlag = sched.home_flag[i]\n",
        "    try:\n",
        "      gameData = getGameData(str(gId), teamId)\n",
        "      attrData = make_attribute_df(gId, homeFlag)\n",
        "      list_of_attr_df.append(attrData)\n",
        "      \n",
        "      if gameData.empty:\n",
        "        pass\n",
        "      else:\n",
        "        game_df = make_score_df(gameData)\n",
        "        list_of_game_df.append(game_df)\n",
        "    \n",
        "    except:\n",
        "      pass\n",
        "\n",
        "  concat_df = concat_game_df(list_of_game_df)\n",
        "  concat_df = concat_df.to_frame()\n",
        "  attributes  = concat_attr_df(list_of_attr_df)\n",
        "  attributes['points'] = attributes['goals'] + attributes['assists']\n",
        "  attributes_dict = attributes.to_dict('index')\n",
        "  print(list_of_game_df[0])\n",
        "  \n",
        "  G = nx.from_pandas_edgelist(concat_df.reset_index(), 'scorer', 'assist', 'weight',create_using=nx.DiGraph())\n",
        "  nx.set_node_attributes(G, attributes_dict)\n",
        "\n",
        "  return G\n",
        "\n",
        "def make_attribute_df(game_id, home_or_not):\n",
        "  if home_or_not == 1:\n",
        "    side = \"home\"\n",
        "  else:\n",
        "    side = \"away\"\n",
        "  response = requests.get(\"https://statsapi.web.nhl.com/api/v1/game/\" + str(game_id) + \"/boxscore\")\n",
        "  game = json.loads(response.text)\n",
        "  list_of_players = game['teams'][side]['players'].keys()\n",
        "  list_of_timeOnIce = []\n",
        "  list_of_plusMinus = []\n",
        "  list_of_players_with_stats = []\n",
        "  list_of_goals = []\n",
        "  list_of_assists = []\n",
        "  list_of_shots = []\n",
        "  list_of_position = []\n",
        "  for player in list_of_players:\n",
        "    try:\n",
        "      stats = game['teams'][side]['players'][player]['stats']['skaterStats']\n",
        "      fullName = game['teams'][side]['players'][player]['person']['fullName']\n",
        "      position = game['teams'][side]['players'][player]['position']['type']\n",
        "      assists = stats['assists']\n",
        "      goals = stats['goals']\n",
        "      shots = stats['shots']\n",
        "      timeOnIce = stats['timeOnIce']\n",
        "      plusMinus = stats['plusMinus']\n",
        "      list_of_timeOnIce.append(timeOnIce)\n",
        "      list_of_plusMinus.append(plusMinus)\n",
        "      list_of_players_with_stats.append(fullName)\n",
        "      list_of_goals.append(goals)\n",
        "      list_of_assists.append(assists)\n",
        "      list_of_shots.append(shots)\n",
        "      list_of_position.append(position)\n",
        "    except:\n",
        "      continue\n",
        "  players_attr = pd.DataFrame({'player': list_of_players_with_stats, 'timeOnIce':list_of_timeOnIce, 'plusMinus':list_of_plusMinus, 'assists' : list_of_assists, 'goals' : list_of_goals, 'shots':list_of_shots, 'position':list_of_position})\n",
        "  players_attr['timeOnIce'] = players_attr['timeOnIce'].apply(lambda x: int(x.split(\":\")[0])*60+int(x.split(\":\")[1]))\n",
        "  return players_attr\n",
        "\n",
        "def attribute_df_to_dict(df):\n",
        "  df = df.set_index('player')\n",
        "  attr_dict = df.to_dict('index')\n",
        "  return attr_dict\n",
        "\n",
        "def make_score_df(network_pre):\n",
        "  #dropping columns that are not needed\n",
        "  try:\n",
        "    network_pre = network_pre[['scorer_fullName', 'assist1_fullName', 'assist2_fullName']]\n",
        "  except:\n",
        "    try:\n",
        "      network_pre = network_pre[['scorer_fullName', 'assist1_fullName']]\n",
        "      network_pre['assist2_fullName'] = None\n",
        "    except:\n",
        "      network_pre = network_pre[['scorer_fullName']]\n",
        "      network_pre['assist1_fullName'] = None\n",
        "      network_pre['assist2_fullName'] = None\n",
        "  \n",
        "  #making own dataframes from both first and second assist, giving different weights for each\n",
        "  network_first_assist = network_pre.drop(['assist2_fullName'], axis=1)\n",
        "  network_first_assist['weight'] = 1\n",
        "  network_sec_assist = network_pre.drop(['assist1_fullName'], axis=1)\n",
        "  network_sec_assist['weight'] = 0.5\n",
        "  \n",
        "\n",
        "  #renaming dfs to have same names for columns\n",
        "  network_first_assist = network_first_assist.rename(columns={\"scorer_fullName\": \"scorer\", \"assist1_fullName\": \"assist\"})\n",
        "  network_sec_assist = network_sec_assist.rename(columns={\"scorer_fullName\": \"scorer\", \"assist2_fullName\": \"assist\"})\n",
        "  \n",
        "  #concatinating frames into a single frame\n",
        "  frames = [network_first_assist, network_sec_assist]\n",
        "  network = pd.concat(frames)\n",
        "  network = network[network['assist']!= None]\n",
        "  return network\n",
        "\n",
        "def getSched (season, teamId):  \n",
        "  schedresp = requests.get(f\"https://statsapi.web.nhl.com/api/v1/schedule?season={season}&gameType=R&teamId={teamId}\")\n",
        "  schedData = json.loads(schedresp.text)\n",
        "\n",
        "  sched = pd.DataFrame.from_dict(schedData)\n",
        "  sched = [d['games'] for d in sched['dates']]\n",
        "  sched = [y for x in sched for y in x]\n",
        "  sched = pd.DataFrame(sched)\n",
        "  sched = pd.concat([sched[['gamePk','gameType','season']],\n",
        "            sched.teams.apply(pd.Series).home.apply(pd.Series).team.apply(pd.Series).add_prefix('home_'),\n",
        "            sched.teams.apply(pd.Series).away.apply(pd.Series).team.apply(pd.Series).add_prefix('away_')],\n",
        "            axis=1)\n",
        "  sched['home_flag'] = sched['home_id'].apply(lambda x: 1 if str(x) == teamId else 0)\n",
        "  return sched\n",
        "\n",
        "def getGameData (gId, teamId):\n",
        "\n",
        "  response = requests.get(f\"https://statsapi.web.nhl.com/api/v1/game/{gId}/feed/live\")\n",
        "  game = json.loads(response.text)\n",
        "\n",
        "  scoringPlayId = game['liveData']['plays']['scoringPlays']\n",
        "  gameData = pd.DataFrame.from_dict(game['liveData']['plays']['allPlays'])\n",
        "\n",
        "  players = pd.DataFrame()\n",
        "\n",
        "  temp = gameData.iloc[scoringPlayId]\n",
        "  # print(\"\\nT1\\n\"2018020003,temp.head())\n",
        "  if temp.empty:\n",
        "    return players \n",
        "\n",
        "  scoringPlays = pd.concat([temp['about'].apply(pd.Series)], axis = 1)\n",
        "\n",
        "  cols = ['scorer', 'assist1', 'assist2', 'goalie', \n",
        "          'teamId', 'teamName', 'teamLink', 'teamCode']\n",
        "\n",
        "  temp2 = pd.concat([pd.DataFrame(temp.players.apply(pd.Series)),\n",
        "                    pd.DataFrame(temp.team.apply(pd.Series))],axis=1)\n",
        "  \n",
        "  if len(list(temp2.columns)) == 7:\n",
        "      cols = ['scorer', 'assist1', 'assist2', \n",
        "          'teamId', 'teamName', 'teamLink', 'teamCode']\n",
        "\n",
        "  temp2.columns = cols\n",
        "  temp2 = temp2[temp2.teamId == teamId]\n",
        "\n",
        "  \n",
        "\n",
        "  if temp2.empty:\n",
        "    return players  \n",
        "\n",
        "  # print(\"\\nT2\\n\", temp2.head())\n",
        "\n",
        "  for c in cols[0:3]:\n",
        "    temp3 = temp2[c].apply(pd.Series)\n",
        "    temp3.loc[temp3.playerType == 'Goalie', 'player'] = np.nan\n",
        "    # print(\"\\nT3\\n\",temp3)\n",
        "    temp4 = temp3['player'].apply(pd.Series)\n",
        "    # print(\"\\nT4\\n\",temp4.columns)\n",
        "    colnames = [c+\"_\"+str(x) for x in temp4.columns]\n",
        "    players[colnames] = temp4\n",
        "\n",
        "  players[cols[4:]] = temp2[cols[4:]]\n",
        "\n",
        "  return players.dropna(axis=1, how='all')\n",
        "\n",
        "def concat_game_df(list_of_game_df):\n",
        "  concat_df = pd.concat(list_of_game_df)\n",
        "  sum_df = concat_df.groupby(['scorer', 'assist'])['weight'].agg('sum')\n",
        "  return sum_df\n",
        "\n",
        "def concat_attr_df(list_of_attr_df):\n",
        "  concat_df = pd.concat(list_of_attr_df)\n",
        "  plusMinus = concat_df.groupby('player')['plusMinus'].agg('sum')\n",
        "  plusMinus = plusMinus.to_frame()\n",
        "  timeOnIce = concat_df.groupby('player')['timeOnIce'].agg('mean')\n",
        "  timeOnIce = timeOnIce.to_frame()\n",
        "  assists = concat_df.groupby('player')['assists'].agg('sum')\n",
        "  assists = assists.to_frame()\n",
        "  shots = concat_df.groupby('player')['shots'].agg('sum')\n",
        "  shots = shots.to_frame()\n",
        "  goals = concat_df.groupby('player')['goals'].agg('sum')\n",
        "  goals = goals.to_frame()\n",
        "  position = concat_df[['player','position']]\n",
        "  position = position[position['position'] != 'NaN']\n",
        "  position = position.drop_duplicates('player')\n",
        "  position = position.set_index('player')\n",
        "  frame = plusMinus.join(timeOnIce).join(assists).join(shots).join(goals).join(position)\n",
        "  return frame\n",
        "\n",
        "def getTop(G):\n",
        "  keep = [p[0] for p in list(nx.get_node_attributes(G, \"points\").items()) if p[1]>15]\n",
        "  topG = G.copy()\n",
        "  topG.remove_nodes_from(list(set(G.nodes())-set(keep)))\n",
        "  return topG\n",
        "\n",
        "def getPos(gr):\n",
        "   pos = nx.spring_layout(gr)\n",
        "   return pos"
      ],
      "execution_count": 0,
      "outputs": []
    },
    {
      "cell_type": "code",
      "metadata": {
        "id": "N9emQQ8c6qfc",
        "colab_type": "code",
        "colab": {}
      },
      "source": [
        "def plot_degree_dist(G):\n",
        "    in_degrees = [G.in_degree(n) for n in G.nodes()]\n",
        "    out_degrees = [G.out_degree(n) for n in G.nodes()]\n",
        "    \n",
        "    fig, ax = plt.subplots(1,2, figsize=(15,5))\n",
        "\n",
        "    plt.sca(ax[0])\n",
        "    plt.hist(in_degrees)\n",
        "    plt.title(\"In degree distribution\", size = 16)\n",
        "    plt.xticks(rotation = 0, size = 12)\n",
        "    plt.xlabel(\"In Degree\", size = 12)\n",
        "    plt.ylabel(\"Frequency\", size = 12)\n",
        "\n",
        "    plt.sca(ax[1])\n",
        "    plt.hist(out_degrees)\n",
        "    plt.title(\"Out degree distribution\", size = 16)\n",
        "    plt.xticks(rotation = 0, size = 12)\n",
        "    plt.xlabel(\"Out Degree\", size = 12)\n",
        "    plt.ylabel(\"Frequency\", size = 12)\n",
        "    \n",
        "    plt.show()\n",
        "\n",
        "# plot_degree_dist(G)"
      ],
      "execution_count": 0,
      "outputs": []
    },
    {
      "cell_type": "code",
      "metadata": {
        "id": "-r42WaPhqpgv",
        "colab_type": "code",
        "colab": {}
      },
      "source": [
        "#betweeness centrality\n",
        "def plotBC(G):\n",
        "  btwnCentrality = sorted(list(nx.betweenness_centrality(G).items()), key = lambda x: x[1])\n",
        "  players = [p[0] for p in btwnCentrality]\n",
        "  centrality = [p[1] for p in btwnCentrality]\n",
        "\n",
        "  fig = plt.figure(figsize=(15,7))\n",
        "  plt.bar(players, centrality)\n",
        "  plt.title(\"Betweeness Centrality by Player\", size = 16)\n",
        "  plt.xticks(rotation = 90, size = 12)\n",
        "  plt.show()"
      ],
      "execution_count": 0,
      "outputs": []
    },
    {
      "cell_type": "code",
      "metadata": {
        "id": "3CyW-RqabFXF",
        "colab_type": "code",
        "colab": {}
      },
      "source": [
        "def plotEdgeBC(G):  \n",
        "  edgeBC = sorted(list(nx.edge_betweenness_centrality(G.to_undirected()).items()), key = lambda x: x[1])\n",
        "\n",
        "  players = sorted(set([p[0][0] for p in edgeBC]))\n",
        "  from_players = [p[0][0] for p in edgeBC]\n",
        "  to_players = [p[0][1] for p in edgeBC]\n",
        "  eBC = [p[1] for p in edgeBC]\n",
        "\n",
        "  eBC_df = pd.DataFrame({\"from\": from_players,\n",
        "                        \"to\": to_players,\n",
        "                        \"edgeBC\": eBC})\n",
        "  result = eBC_df.pivot(index='from', columns='to', values='edgeBC')\n",
        "\n",
        "  fig = plt.figure(figsize=(15,7))\n",
        "  sns.heatmap(result, annot=False, fmt=\"g\", cmap='viridis')\n",
        "  plt.show()\n",
        "\n",
        "\n"
      ],
      "execution_count": 0,
      "outputs": []
    },
    {
      "cell_type": "code",
      "metadata": {
        "id": "NpVLNUGRR2Fy",
        "colab_type": "code",
        "outputId": "d819cbe1-b316-4ea6-f40a-e44cc5e29729",
        "colab": {
          "base_uri": "https://localhost:8080/",
          "height": 641
        }
      },
      "source": [
        "team = 'Flames'\n",
        "evol = generate_network_evolution(team, 20182019)\n",
        "\n",
        "print(f\" # nodes: {len(evol[-1].nodes)}\\n\", \n",
        "      f\"# edges: {len(evol[-1].edges)}\\n\",\n",
        "      f\"avg. degree: {np.mean([evol[-1].degree(n) for n in evol[-1].nodes()])}\\n\",\n",
        "      f\"avg. clustering: {nx.average_clustering(evol[-1])}\\n\",\n",
        "      )\n",
        "\n",
        "edge_weights = nx.get_edge_attributes(evol[-1],\"weight\")\n",
        "fig = plt.figure(figsize=(10,7))\n",
        "plt.hist([v[1] for v in edge_weights.items()])\n",
        "\n",
        "plt.title(f\"{team} Edge weight distribution\", size = 16)\n",
        "plt.xlabel(\"Edge weight\", size = 12)\n",
        "plt.ylabel(\"Frequency\", size = 12)\n",
        "plt.show()"
      ],
      "execution_count": 7,
      "outputs": [
        {
          "output_type": "stream",
          "text": [
            "/usr/local/lib/python3.6/dist-packages/ipykernel_launcher.py:137: SettingWithCopyWarning: \n",
            "A value is trying to be set on a copy of a slice from a DataFrame.\n",
            "Try using .loc[row_indexer,col_indexer] = value instead\n",
            "\n",
            "See the caveats in the documentation: http://pandas.pydata.org/pandas-docs/stable/user_guide/indexing.html#returning-a-view-versus-a-copy\n"
          ],
          "name": "stderr"
        },
        {
          "output_type": "stream",
          "text": [
            " # nodes: 26\n",
            " # edges: 205\n",
            " avg. degree: 15.76923076923077\n",
            " avg. clustering: 0.49717862217211706\n",
            "\n"
          ],
          "name": "stdout"
        },
        {
          "output_type": "display_data",
          "data": {
            "image/png": "[encoded data removed]",
            "text/plain": [
              "<Figure size 720x504 with 1 Axes>"
            ]
          },
          "metadata": {
            "tags": []
          }
        }
      ]
    },
    {
      "cell_type": "code",
      "metadata": {
        "id": "r2FoXas7Vdh5",
        "colab_type": "code",
        "colab": {}
      },
      "source": [
        "finalG = getTop(evol[-1])\n",
        "pos = getPos(finalG)\n",
        "finalnodes = list(finalG.nodes())\n",
        "finaledges = list(finalG.edges())\n",
        "finalweights = list(nx.get_edge_attributes(finalG, 'weight').items())\n",
        "finalweights = [e[1] for e in finalweights]\n",
        "maxWeight = 7.5\n",
        "\n",
        "def dropNodes(gr):\n",
        "  gr.remove_nodes_from(list(set(gr.nodes())-set(finalnodes)))\n",
        "  return gr\n",
        "\n",
        "def drawNet(gr, pos, i):\n",
        "  fig = plt.figure(figsize=(17,10))\n",
        "\n",
        "  egr = dropNodes(gr.copy())\n",
        "  \n",
        "  weights = dict.fromkeys(nx.get_edge_attributes(finalG, 'weight'),0)\n",
        "  weights.update(nx.get_edge_attributes(egr,\"weight\"))\n",
        "  weights = [e[1] for e in weights.items()]\n",
        "  weights = [w*20/maxWeight for w in weights]\n",
        "  \n",
        "  points = dict.fromkeys(nx.get_node_attributes(finalG,\"points\"),0)\n",
        "  points.update(nx.get_node_attributes(egr,\"points\"))\n",
        "  points = [p[1] for p in points.items()]\n",
        "  points = [p*500/max(points) for p in points]\n",
        "  \n",
        "  labelpos = {}\n",
        "  for k in pos.keys():\n",
        "    labelpos.update({k:[pos[k][0], (pos[k][1]+0.06)]})\n",
        "\n",
        "  nodecolor = ['darkblue' if finalG.nodes[n][\"position\"] == \"Forward\" else 'lightblue' for n in finalnodes]\n",
        "\n",
        "  nx.draw_networkx_nodes(finalG, pos = pos, node_color = nodecolor, node_size=points)\n",
        "  nx.draw_networkx_edges(finalG, pos = pos, width=weights, alpha=0.5, edge_color='grey', arrows= False if (i < 80) else True)\n",
        "  nx.draw_networkx_labels(finalG, labelpos)\n",
        "  \n",
        "  plt.gca().spines['top'].set_visible(False)\n",
        "  plt.gca().spines['bottom'].set_visible(False)\n",
        "  plt.gca().spines['left'].set_visible(False)\n",
        "  plt.gca().spines['right'].set_visible(False)\n",
        "  plt.title(f\"{team} | Game #{i+1}\", size=24)\n",
        "  plt.margins(x=0.1)\n",
        "  # plt.show()\n",
        "\n",
        "  fig.canvas.draw();       # draw the canvas, cache the renderer\n",
        "  plt.close()\n",
        "  image = np.frombuffer(fig.canvas.tostring_rgb(), dtype='uint8')\n",
        "  image  = image.reshape(fig.canvas.get_width_height()[::-1] + (3,))\n",
        "\n",
        "  return image"
      ],
      "execution_count": 0,
      "outputs": []
    },
    {
      "cell_type": "code",
      "metadata": {
        "id": "HBpNnqGopM6n",
        "colab_type": "code",
        "colab": {
          "base_uri": "https://localhost:8080/",
          "height": 35
        },
        "outputId": "db027e75-1325-4661-a281-9c2af1354c2f"
      },
      "source": [
        "kwargs_write = {'fps':5.0, 'quantizer':'nq'}\n",
        "images = [drawNet(e, pos, i) for i,e in enumerate(evol)]#[0:10])]\n",
        "print(f\"# of games = {len(images)}\")\n",
        "images = images + [images[-1]]*15\n",
        "imageio.mimsave(f\"./{team}_evol.gif\", images, fps=5)"
      ],
      "execution_count": 9,
      "outputs": [
        {
          "output_type": "stream",
          "text": [
            "# of games = 82\n"
          ],
          "name": "stdout"
        }
      ]
    },
    {
      "cell_type": "code",
      "metadata": {
        "id": "g5v5vKhrP9EB",
        "colab_type": "code",
        "colab": {
          "base_uri": "https://localhost:8080/",
          "height": 293
        },
        "outputId": "1d8b6346-5015-4165-86f0-c7da18607061"
      },
      "source": [
        "fig = plt.figure(figsize=(8,5));\n",
        "plt.imshow(images[-1]);\n",
        "\n",
        "plt.axis('off')\n",
        "plt.gca().spines['top'].set_visible(False)\n",
        "plt.gca().spines['bottom'].set_visible(False)\n",
        "plt.gca().spines['left'].set_visible(False)\n",
        "plt.gca().spines['right'].set_visible(False)\n",
        "\n",
        "fig.savefig(f'{team}.png', dpi = 600)\n"
      ],
      "execution_count": 10,
      "outputs": [
        {
          "output_type": "display_data",
          "data": {
            "image/png": "[encoded data removed]",
            "text/plain": [
              "<Figure size 576x360 with 1 Axes>"
            ]
          },
          "metadata": {
            "tags": []
          }
        }
      ]
    },
    {
      "cell_type": "code",
      "metadata": {
        "id": "-FS-mhX2GLmW",
        "colab_type": "code",
        "colab": {}
      },
      "source": [
        ""
      ],
      "execution_count": 0,
      "outputs": []
    },
    {
      "cell_type": "code",
      "metadata": {
        "id": "WvViKDGFHZq1",
        "colab_type": "code",
        "colab": {}
      },
      "source": [
        ""
      ],
      "execution_count": 0,
      "outputs": []
    },
    {
      "cell_type": "code",
      "metadata": {
        "id": "vgrBy-YdHe2P",
        "colab_type": "code",
        "colab": {}
      },
      "source": [
        ""
      ],
      "execution_count": 0,
      "outputs": []
    }
  ]
}